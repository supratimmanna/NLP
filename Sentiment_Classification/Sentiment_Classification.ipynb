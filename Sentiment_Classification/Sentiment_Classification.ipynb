{
  "nbformat": 4,
  "nbformat_minor": 0,
  "metadata": {
    "colab": {
      "name": "NLP_Assignment_3_Submission.ipynb",
      "provenance": []
    },
    "kernelspec": {
      "name": "python3",
      "display_name": "Python 3"
    },
    "accelerator": "GPU"
  },
  "cells": [
    {
      "cell_type": "code",
      "metadata": {
        "id": "rhw-e2xEbv7Q"
      },
      "source": [
        "import re\n",
        "import pandas as pd\n",
        "import numpy as np\n",
        "from sklearn.preprocessing import LabelEncoder\n",
        "from sklearn.model_selection import train_test_split\n",
        "from keras.preprocessing.text import Tokenizer\n",
        "from keras.preprocessing.sequence import pad_sequences\n",
        "import keras\n",
        "from sklearn.metrics import classification_report\n",
        "from sklearn import metrics\n",
        "from sklearn.feature_extraction.text import CountVectorizer\n",
        "import seaborn as sns\n",
        "import matplotlib.pyplot as plt\n",
        "\n",
        "import nltk\n",
        "from nltk.stem import PorterStemmer\n",
        "from nltk.stem import WordNetLemmatizer\n",
        "from nltk.corpus import stopwords"
      ],
      "execution_count": 158,
      "outputs": []
    },
    {
      "cell_type": "code",
      "metadata": {
        "id": "kH-uYduHNPad"
      },
      "source": [
        "nltk.download('wordnet')\n",
        "nltk.download('stopwords')\n",
        "all_stopwords = stopwords.words('english')"
      ],
      "execution_count": null,
      "outputs": []
    },
    {
      "cell_type": "code",
      "metadata": {
        "id": "qZ_GGN-CWVhR"
      },
      "source": [
        "dataset = pd.read_csv('IMDB Dataset.csv')"
      ],
      "execution_count": 160,
      "outputs": []
    },
    {
      "cell_type": "code",
      "metadata": {
        "id": "VZuEXX21bVkk",
        "outputId": "67f96b94-6f06-4886-a8cd-206bb67ebbba",
        "colab": {
          "base_uri": "https://localhost:8080/",
          "height": 204
        }
      },
      "source": [
        "dataset.head()"
      ],
      "execution_count": 161,
      "outputs": [
        {
          "output_type": "execute_result",
          "data": {
            "text/html": [
              "<div>\n",
              "<style scoped>\n",
              "    .dataframe tbody tr th:only-of-type {\n",
              "        vertical-align: middle;\n",
              "    }\n",
              "\n",
              "    .dataframe tbody tr th {\n",
              "        vertical-align: top;\n",
              "    }\n",
              "\n",
              "    .dataframe thead th {\n",
              "        text-align: right;\n",
              "    }\n",
              "</style>\n",
              "<table border=\"1\" class=\"dataframe\">\n",
              "  <thead>\n",
              "    <tr style=\"text-align: right;\">\n",
              "      <th></th>\n",
              "      <th>review</th>\n",
              "      <th>sentiment</th>\n",
              "    </tr>\n",
              "  </thead>\n",
              "  <tbody>\n",
              "    <tr>\n",
              "      <th>0</th>\n",
              "      <td>One of the other reviewers has mentioned that ...</td>\n",
              "      <td>positive</td>\n",
              "    </tr>\n",
              "    <tr>\n",
              "      <th>1</th>\n",
              "      <td>A wonderful little production. &lt;br /&gt;&lt;br /&gt;The...</td>\n",
              "      <td>positive</td>\n",
              "    </tr>\n",
              "    <tr>\n",
              "      <th>2</th>\n",
              "      <td>I thought this was a wonderful way to spend ti...</td>\n",
              "      <td>positive</td>\n",
              "    </tr>\n",
              "    <tr>\n",
              "      <th>3</th>\n",
              "      <td>Basically there's a family where a little boy ...</td>\n",
              "      <td>negative</td>\n",
              "    </tr>\n",
              "    <tr>\n",
              "      <th>4</th>\n",
              "      <td>Petter Mattei's \"Love in the Time of Money\" is...</td>\n",
              "      <td>positive</td>\n",
              "    </tr>\n",
              "  </tbody>\n",
              "</table>\n",
              "</div>"
            ],
            "text/plain": [
              "                                              review sentiment\n",
              "0  One of the other reviewers has mentioned that ...  positive\n",
              "1  A wonderful little production. <br /><br />The...  positive\n",
              "2  I thought this was a wonderful way to spend ti...  positive\n",
              "3  Basically there's a family where a little boy ...  negative\n",
              "4  Petter Mattei's \"Love in the Time of Money\" is...  positive"
            ]
          },
          "metadata": {
            "tags": []
          },
          "execution_count": 161
        }
      ]
    },
    {
      "cell_type": "code",
      "metadata": {
        "id": "b7pUtYzEcEQB",
        "outputId": "fe8826c2-8872-4c97-a04f-33714441795d",
        "colab": {
          "base_uri": "https://localhost:8080/",
          "height": 68
        }
      },
      "source": [
        "dataset.sentiment.value_counts()"
      ],
      "execution_count": 162,
      "outputs": [
        {
          "output_type": "execute_result",
          "data": {
            "text/plain": [
              "positive    25000\n",
              "negative    25000\n",
              "Name: sentiment, dtype: int64"
            ]
          },
          "metadata": {
            "tags": []
          },
          "execution_count": 162
        }
      ]
    },
    {
      "cell_type": "code",
      "metadata": {
        "id": "t6-umVX556Vp",
        "outputId": "a808d4c7-5cc9-4062-cb67-8637d421df98",
        "colab": {
          "base_uri": "https://localhost:8080/",
          "height": 296
        }
      },
      "source": [
        "sns.countplot(x='sentiment', data=dataset)"
      ],
      "execution_count": 163,
      "outputs": [
        {
          "output_type": "execute_result",
          "data": {
            "text/plain": [
              "<matplotlib.axes._subplots.AxesSubplot at 0x7fca4e8cb400>"
            ]
          },
          "metadata": {
            "tags": []
          },
          "execution_count": 163
        },
        {
          "output_type": "display_data",
          "data": {
            "image/png": "[encoded data removed]",
            "text/plain": [
              "<Figure size 432x288 with 1 Axes>"
            ]
          },
          "metadata": {
            "tags": [],
            "needs_background": "light"
          }
        }
      ]
    },
    {
      "cell_type": "code",
      "metadata": {
        "id": "naRa0JiJaplt",
        "outputId": "1e43da86-544b-4cde-c873-c39e0bf71c85",
        "colab": {
          "base_uri": "https://localhost:8080/",
          "height": 34
        }
      },
      "source": [
        "reviews = dataset['review']\n",
        "labels = dataset['sentiment']\n",
        "print(len(reviews), len(labels))"
      ],
      "execution_count": 164,
      "outputs": [
        {
          "output_type": "stream",
          "text": [
            "50000 50000\n"
          ],
          "name": "stdout"
        }
      ]
    },
    {
      "cell_type": "code",
      "metadata": {
        "id": "cHyrQ5pie4Bb",
        "outputId": "b2dff171-bca8-4ad8-d539-5af6ac4978d1",
        "colab": {
          "base_uri": "https://localhost:8080/",
          "height": 85
        }
      },
      "source": [
        "import nltk\n",
        "from nltk.stem import PorterStemmer\n",
        "from nltk.stem import WordNetLemmatizer\n",
        "nltk.download('wordnet')\n",
        "from nltk.corpus import stopwords\n",
        "nltk.download('stopwords')\n",
        "all_stopwords = stopwords.words('english')"
      ],
      "execution_count": 157,
      "outputs": [
        {
          "output_type": "stream",
          "text": [
            "[nltk_data] Downloading package wordnet to /root/nltk_data...\n",
            "[nltk_data]   Package wordnet is already up-to-date!\n",
            "[nltk_data] Downloading package stopwords to /root/nltk_data...\n",
            "[nltk_data]   Package stopwords is already up-to-date!\n"
          ],
          "name": "stdout"
        }
      ]
    },
    {
      "cell_type": "markdown",
      "metadata": {
        "id": "nos_CtT9NmLG"
      },
      "source": [
        "# Text Preprocessing"
      ]
    },
    {
      "cell_type": "code",
      "metadata": {
        "id": "75ncDBsUcU8s"
      },
      "source": [
        "## Text Preprocessing Function\n",
        "\n",
        "def text_preprocessing(text):\n",
        "  PS = PorterStemmer()\n",
        "  lemmatizer = WordNetLemmatizer() \n",
        "  ## Remove HTML Tags\n",
        "  text = text.apply(lambda x: re.sub(r'<.*?>', \"\", x)) \n",
        "  ## Remove URL\n",
        "  text = text.apply(lambda x: re.sub(r\"http\\S+\", \"\", x))\n",
        "  ## Remove non-alphanumeric \n",
        "  text = text.apply(lambda x: re.sub('[^a-zA-Z]', \" \", x))\n",
        "  ## Remove stopwords\n",
        "  text = text.apply(lambda x: ' '.join([word for word in x.split() if word not in (all_stopwords)]))\n",
        "  #text = text..apply(lambda x: ' '.join([PS.stem(word) for word in x.split()]))\n",
        "  ## Apply Lemmatization\n",
        "  text = text.apply(lambda x: ' '.join([lemmatizer.lemmatize(word) for word in x.split()]))\n",
        "  ## Perform lowercase\n",
        "  text = text.apply(lambda x: x.lower())\n",
        "\n",
        "  return text\n"
      ],
      "execution_count": 165,
      "outputs": []
    },
    {
      "cell_type": "code",
      "metadata": {
        "id": "YLTPhs9gkJJ_"
      },
      "source": [
        "processed_reviews = text_preprocessing(reviews)"
      ],
      "execution_count": 166,
      "outputs": []
    },
    {
      "cell_type": "code",
      "metadata": {
        "id": "XLfB-9ZJhb2E",
        "outputId": "e54daf7e-2127-483a-9d7d-fb0c0ded708a",
        "colab": {
          "base_uri": "https://localhost:8080/",
          "height": 34
        }
      },
      "source": [
        "# Print avg length of sentence\n",
        "avg_sent_length= processed_reviews.apply(len).mean()\n",
        "print('avg length of sentences :',avg_sent_length)"
      ],
      "execution_count": 167,
      "outputs": [
        {
          "output_type": "stream",
          "text": [
            "avg length of sentences : 841.0462\n"
          ],
          "name": "stdout"
        }
      ]
    },
    {
      "cell_type": "markdown",
      "metadata": {
        "id": "ds9XKLpDtvwF"
      },
      "source": [
        "# Naive Bayes classifier"
      ]
    },
    {
      "cell_type": "code",
      "metadata": {
        "id": "2XADtqk68Ck2"
      },
      "source": [
        "## Find the index of the positive and negative reviews\n",
        "pos_idx = labels[labels=='positive'].index.tolist() \n",
        "neg_idx = labels[labels=='negative'].index.tolist() "
      ],
      "execution_count": 168,
      "outputs": []
    },
    {
      "cell_type": "code",
      "metadata": {
        "id": "RmvDoamf-Gia"
      },
      "source": [
        "## Get the positive reviews and negative reviews\n",
        "pos_review =[]\n",
        "for i in pos_idx:\n",
        "  pos_review.append(processed_reviews[i])\n",
        "\n",
        "neg_review =[]\n",
        "for i in neg_idx:\n",
        "  neg_review.append(processed_reviews[i])"
      ],
      "execution_count": 169,
      "outputs": []
    },
    {
      "cell_type": "code",
      "metadata": {
        "id": "xWWYH9bmB5W7"
      },
      "source": [
        "#Split the positive reviews\n",
        "pos_review_train, pos_review_test, pos_idx_train, pos_idx_test = train_test_split(pos_review, pos_idx, test_size=0.2)"
      ],
      "execution_count": 170,
      "outputs": []
    },
    {
      "cell_type": "code",
      "metadata": {
        "id": "EFhHXa7KCkzX"
      },
      "source": [
        "#Split the negative reviews\n",
        "neg_review_train, neg_review_test, neg_idx_train, neg_idx_test = train_test_split(neg_review, neg_idx, test_size=0.2)"
      ],
      "execution_count": 171,
      "outputs": []
    },
    {
      "cell_type": "code",
      "metadata": {
        "id": "bNx2ERLkAwwq"
      },
      "source": [
        "## Concatenate all the reviews that need to be tested\n",
        "review_to_test = pos_review_test + neg_review_test\n",
        "label_test_actual = list(labels[pos_idx_test])+list(labels[neg_idx_test])"
      ],
      "execution_count": 172,
      "outputs": []
    },
    {
      "cell_type": "code",
      "metadata": {
        "id": "m6yAc65iDHbG"
      },
      "source": [
        "## Enocde the class of the review\n",
        "encoder = LabelEncoder()\n",
        "encoded_label_test_actual = encoder.fit_transform(label_test_actual)"
      ],
      "execution_count": 173,
      "outputs": []
    },
    {
      "cell_type": "code",
      "metadata": {
        "id": "cBqZvKQ9-NRQ"
      },
      "source": [
        "## Define a function to train the Naive Bayes Classifier\n",
        "\n",
        "def train_naive_bayes(pos_review_train, neg_review_train):\n",
        "  # Use Count vectorizer to get frequency of the words\n",
        "  pos_word = CountVectorizer(max_features = 1000)\n",
        "  pos_class_words = pos_word.fit_transform(pos_review_train)\n",
        "\n",
        "  neg_word = CountVectorizer(max_features = 1000)\n",
        "  neg_class_words = neg_word.fit_transform(neg_review_train)\n",
        "\n",
        "  ## Calculate logprior probability\n",
        "  total_doc = len(pos_review_train) + len(neg_review_train)\n",
        "  pos_doc = len(pos_review_train)\n",
        "  neg_doc = len(neg_review_train)\n",
        "  logprior_proba = {}\n",
        "  logprior_proba['pos'] = np.log(pos_doc/total_doc)\n",
        "  logprior_proba['neg'] = np.log(neg_doc/total_doc)\n",
        "\n",
        "  ## Create Vocabulary\n",
        "  all_words = []\n",
        "  for word in pos_word.vocabulary_.keys():\n",
        "    all_words.append(word)\n",
        "\n",
        "  for word in neg_word.vocabulary_.keys():\n",
        "    if not word in all_words:\n",
        "      all_words.append(word)\n",
        "\n",
        "  ## Calculate the probability of a word in vocabulary given the class is positive\n",
        "  unique_words_pos = len(pos_word.vocabulary_)\n",
        "  total_words_pos = sum(pos_word.vocabulary_.values())\n",
        "  proba_word_pos = {}\n",
        "  for word in all_words:\n",
        "    if word in pos_word.vocabulary_.keys():\n",
        "      count = pos_word.vocabulary_[word]\n",
        "      proba_word_pos[word] = np.log((count+1)/(total_words_pos+unique_words_pos))\n",
        "    else:\n",
        "      proba_word_pos[word] = np.log(1/(total_words_pos+unique_words_pos))\n",
        "\n",
        "  ## Calculate the probability of a word in vocabulary given the class is negative\n",
        "  unique_words_neg = len(neg_word.vocabulary_)\n",
        "  total_words_neg = sum(neg_word.vocabulary_.values())\n",
        "  proba_word_neg = {}\n",
        "  for word in all_words:\n",
        "    if word in neg_word.vocabulary_.keys():\n",
        "      count = neg_word.vocabulary_[word]\n",
        "      proba_word_neg[word] = np.log((count+1)/(total_words_neg+unique_words_neg))\n",
        "    else:\n",
        "      proba_word_neg[word] = np.log(1/(total_words_neg+unique_words_neg))\n",
        "\n",
        "  return all_words, logprior_proba, proba_word_pos, proba_word_neg"
      ],
      "execution_count": 175,
      "outputs": []
    },
    {
      "cell_type": "code",
      "metadata": {
        "id": "zoovCFyl_jAz"
      },
      "source": [
        "vocab, logprior_class_proba, proba_word_pos, proba_word_neg = train_naive_bayes(pos_review_train, neg_review_train)"
      ],
      "execution_count": 176,
      "outputs": []
    },
    {
      "cell_type": "code",
      "metadata": {
        "id": "rFiD6PUTmJE-"
      },
      "source": [
        "## Test function to test the naive bayes classifier\n",
        "def test_naive_bayes(test_review):\n",
        "  total_proba_pos=0\n",
        "  total_proba_neg=0\n",
        "\n",
        "  total_proba_pos = total_proba_pos + logprior_class_proba['pos']\n",
        "  total_proba_neg = total_proba_neg + logprior_class_proba['neg']\n",
        "\n",
        "  for word in review.split():\n",
        "    if word in vocab:\n",
        "      total_proba_pos = total_proba_pos + proba_word_pos[word]\n",
        "      total_proba_neg = total_proba_neg + proba_word_neg[word]\n",
        "\n",
        "  if total_proba_pos > total_proba_neg:\n",
        "    pred_class=1\n",
        "  else:\n",
        "    pred_class=0\n",
        "\n",
        "  return pred_class"
      ],
      "execution_count": 177,
      "outputs": []
    },
    {
      "cell_type": "code",
      "metadata": {
        "id": "sXsX3gvxmomL"
      },
      "source": [
        "## Prediction the class\n",
        "class_prediction=[]\n",
        "for review in review_to_test:\n",
        "  cls = test_naive_bayes(review)\n",
        "  class_prediction.append(cls)\n",
        "\n",
        "class_prediction = np.array(class_prediction)"
      ],
      "execution_count": 178,
      "outputs": []
    },
    {
      "cell_type": "code",
      "metadata": {
        "id": "XaS55gDkoqA8",
        "outputId": "4b5af6f7-5788-451c-c645-eaceb60b7e34",
        "colab": {
          "base_uri": "https://localhost:8080/",
          "height": 187
        }
      },
      "source": [
        "## Calculate the accuracy of the designed Naive Bayes Classifier Model\n",
        "accuracy_score = metrics.accuracy_score(class_prediction, encoded_label_test_actual)\n",
        "print('Accuracy of the Naive Bayes Classifier:',accuracy_score*100,'%')\n",
        "print(classification_report(encoded_label_test_actual, class_prediction))"
      ],
      "execution_count": 179,
      "outputs": [
        {
          "output_type": "stream",
          "text": [
            "Accuracy of the Naive Bayes Classifier: 75.22 %\n",
            "              precision    recall  f1-score   support\n",
            "\n",
            "           0       0.74      0.77      0.76      5000\n",
            "           1       0.76      0.74      0.75      5000\n",
            "\n",
            "    accuracy                           0.75     10000\n",
            "   macro avg       0.75      0.75      0.75     10000\n",
            "weighted avg       0.75      0.75      0.75     10000\n",
            "\n"
          ],
          "name": "stdout"
        }
      ]
    },
    {
      "cell_type": "markdown",
      "metadata": {
        "id": "CmNqypVw6iWs"
      },
      "source": [
        "# *LSTM* based Classifier"
      ]
    },
    {
      "cell_type": "code",
      "metadata": {
        "id": "RQbR8ukz6qoT"
      },
      "source": [
        "rv = list(processed_reviews)\n",
        "X=[]\n",
        "for sent in rv:\n",
        "  X.append(sent)\n"
      ],
      "execution_count": 180,
      "outputs": []
    },
    {
      "cell_type": "code",
      "metadata": {
        "id": "gfo1HG_R7SZP"
      },
      "source": [
        "## Encoded the label of the review\n",
        "encoder = LabelEncoder()\n",
        "y = encoder.fit_transform(labels)"
      ],
      "execution_count": 181,
      "outputs": []
    },
    {
      "cell_type": "code",
      "metadata": {
        "id": "_TJQl6up7ULO"
      },
      "source": [
        "## Split the data set \n",
        "X_train, X_test, y_train, y_test = train_test_split(X, y, test_size=0.20, random_state=42)"
      ],
      "execution_count": 182,
      "outputs": []
    },
    {
      "cell_type": "code",
      "metadata": {
        "id": "Bl4GQT387Zf2"
      },
      "source": [
        "# Hyperparameters of the model\n",
        "vocab_size = 1000 # choose based on statistics\n",
        "oov_tok = '<OOK>'\n",
        "embedding_dim = 100\n",
        "max_length = 170 # choose based on statistics, for example 150 to 200\n",
        "padding_type='post'\n",
        "trunc_type='post'"
      ],
      "execution_count": 183,
      "outputs": []
    },
    {
      "cell_type": "code",
      "metadata": {
        "id": "4sWKEosJ8ITN"
      },
      "source": [
        "# tokenize sentences\n",
        "tokenizer = Tokenizer(num_words = vocab_size, oov_token=oov_tok)\n",
        "tokenizer.fit_on_texts(X_train)\n",
        "word_index = tokenizer.word_index\n",
        "#vocab_size = len(word_index) + 1\n",
        "# convert train dataset to sequence and pad sequences\n",
        "train_sequences = tokenizer.texts_to_sequences(X_train)\n",
        "train_padded = pad_sequences(train_sequences, padding=padding_type, maxlen=max_length, truncating=trunc_type)\n",
        "\n",
        "# convert Test dataset to sequence and pad sequences\n",
        "test_sequences = tokenizer.texts_to_sequences(X_test)\n",
        "test_padded = pad_sequences(test_sequences, padding=padding_type, maxlen=max_length, truncating=trunc_type)"
      ],
      "execution_count": 184,
      "outputs": []
    },
    {
      "cell_type": "code",
      "metadata": {
        "id": "A2qLkrYi87zi"
      },
      "source": [
        "model = keras.Sequential()\n",
        "embedding_layer = keras.layers.Embedding(vocab_size, embedding_dim, input_length=max_length)\n",
        "model.add(embedding_layer)\n",
        "model.add(keras.layers.Bidirectional(keras.layers.LSTM(64)))\n",
        "model.add(keras.layers.Dense(24, activation='relu'))\n",
        "model.add(keras.layers.Dense(1, activation='sigmoid'))"
      ],
      "execution_count": 185,
      "outputs": []
    },
    {
      "cell_type": "code",
      "metadata": {
        "id": "uaITdfk3-Jv7",
        "outputId": "2d098207-9ec9-4a8c-bea9-50c41b3ea8c4",
        "colab": {
          "base_uri": "https://localhost:8080/",
          "height": 289
        }
      },
      "source": [
        "model.compile(loss='binary_crossentropy', optimizer='adam', metrics=['accuracy'])\n",
        "model.summary()"
      ],
      "execution_count": 186,
      "outputs": [
        {
          "output_type": "stream",
          "text": [
            "Model: \"sequential_4\"\n",
            "_________________________________________________________________\n",
            "Layer (type)                 Output Shape              Param #   \n",
            "=================================================================\n",
            "embedding_4 (Embedding)      (None, 170, 100)          100000    \n",
            "_________________________________________________________________\n",
            "bidirectional_4 (Bidirection (None, 128)               84480     \n",
            "_________________________________________________________________\n",
            "dense_8 (Dense)              (None, 24)                3096      \n",
            "_________________________________________________________________\n",
            "dense_9 (Dense)              (None, 1)                 25        \n",
            "=================================================================\n",
            "Total params: 187,601\n",
            "Trainable params: 187,601\n",
            "Non-trainable params: 0\n",
            "_________________________________________________________________\n"
          ],
          "name": "stdout"
        }
      ]
    },
    {
      "cell_type": "code",
      "metadata": {
        "id": "HlRwDPFk-nsk",
        "outputId": "48667534-f785-473d-8fc8-8626a7b91c50",
        "colab": {
          "base_uri": "https://localhost:8080/",
          "height": 187
        }
      },
      "source": [
        "num_epoch = 5\n",
        "history = model.fit(train_padded, y_train, batch_size=128, epochs=num_epoch, verbose=1, validation_split=0.1)"
      ],
      "execution_count": 187,
      "outputs": [
        {
          "output_type": "stream",
          "text": [
            "Epoch 1/5\n",
            "282/282 [==============================] - 7s 26ms/step - loss: 0.4317 - accuracy: 0.7921 - val_loss: 0.3674 - val_accuracy: 0.8370\n",
            "Epoch 2/5\n",
            "282/282 [==============================] - 6s 23ms/step - loss: 0.3480 - accuracy: 0.8514 - val_loss: 0.3886 - val_accuracy: 0.8273\n",
            "Epoch 3/5\n",
            "282/282 [==============================] - 6s 23ms/step - loss: 0.3341 - accuracy: 0.8569 - val_loss: 0.3576 - val_accuracy: 0.8407\n",
            "Epoch 4/5\n",
            "282/282 [==============================] - 6s 23ms/step - loss: 0.3236 - accuracy: 0.8626 - val_loss: 0.3354 - val_accuracy: 0.8525\n",
            "Epoch 5/5\n",
            "282/282 [==============================] - 6s 23ms/step - loss: 0.3122 - accuracy: 0.8680 - val_loss: 0.3295 - val_accuracy: 0.8560\n"
          ],
          "name": "stdout"
        }
      ]
    },
    {
      "cell_type": "code",
      "metadata": {
        "id": "iMLLP2lK_RSP",
        "outputId": "466719a7-6746-448c-9b1a-ee9bfe3bc1f7",
        "colab": {
          "base_uri": "https://localhost:8080/",
          "height": 573
        }
      },
      "source": [
        "plt.plot(history.history['accuracy'])\n",
        "plt.plot(history.history['val_accuracy'])\n",
        "\n",
        "plt.title('model accuracy')\n",
        "plt.ylabel('accuracy')\n",
        "plt.xlabel('epoch')\n",
        "plt.legend(['train','test'], loc='upper left')\n",
        "plt.show()\n",
        "\n",
        "plt.plot(history.history['loss'])\n",
        "plt.plot(history.history['val_loss'])\n",
        "\n",
        "plt.title('model loss')\n",
        "plt.ylabel('loss')\n",
        "plt.xlabel('epoch')\n",
        "plt.legend(['train','test'], loc='upper left')\n",
        "plt.show()"
      ],
      "execution_count": 188,
      "outputs": [
        {
          "output_type": "display_data",
          "data": {
            "image/png": "[encoded data removed]",
            "text/plain": [
              "<Figure size 432x288 with 1 Axes>"
            ]
          },
          "metadata": {
            "tags": [],
            "needs_background": "light"
          }
        },
        {
          "output_type": "display_data",
          "data": {
            "image/png": "[encoded data removed]",
            "text/plain": [
              "<Figure size 432x288 with 1 Axes>"
            ]
          },
          "metadata": {
            "tags": [],
            "needs_background": "light"
          }
        }
      ]
    },
    {
      "cell_type": "code",
      "metadata": {
        "id": "8P1yVX27-z1X",
        "outputId": "4b1d6f3a-670f-4f7a-db35-b67d3f89f871",
        "colab": {
          "base_uri": "https://localhost:8080/",
          "height": 68
        }
      },
      "source": [
        "score = model.evaluate(test_padded, y_test, verbose=1)\n",
        "print(\"Test Score:\", score[0])\n",
        "print(\"Test Accuracy:\", score[1])"
      ],
      "execution_count": 189,
      "outputs": [
        {
          "output_type": "stream",
          "text": [
            "313/313 [==============================] - 3s 8ms/step - loss: 0.3408 - accuracy: 0.8476\n",
            "Test Score: 0.34077194333076477\n",
            "Test Accuracy: 0.847599983215332\n"
          ],
          "name": "stdout"
        }
      ]
    },
    {
      "cell_type": "code",
      "metadata": {
        "id": "Euzke9LZBWiO"
      },
      "source": [
        "class_prediction_lstm=[]\n",
        "for x in range(len(test_padded)):\n",
        "  result = model.predict(test_padded[x].reshape(1,test_padded.shape[1]))\n",
        "  if result>0.5:\n",
        "    class_prediction_lstm.append(1)\n",
        "  else:\n",
        "    class_prediction_lstm.append(0)\n",
        "\n",
        "class_prediction_lstm = np.array(class_prediction_lstm)"
      ],
      "execution_count": 190,
      "outputs": []
    },
    {
      "cell_type": "code",
      "metadata": {
        "id": "nWeTvM1tFmED",
        "outputId": "d7fb5bb5-e6e1-4326-f1ad-4080bf0d6853",
        "colab": {
          "base_uri": "https://localhost:8080/",
          "height": 34
        }
      },
      "source": [
        "accuracy_score_lstm = metrics.accuracy_score(class_prediction_lstm, y_test)\n",
        "print('Accuracy of the LSTM based Classifier:',accuracy_score_lstm*100,'%')"
      ],
      "execution_count": 191,
      "outputs": [
        {
          "output_type": "stream",
          "text": [
            "Accuracy of the LSTM based Classifier: 84.76 %\n"
          ],
          "name": "stdout"
        }
      ]
    },
    {
      "cell_type": "markdown",
      "metadata": {
        "id": "-ucMEwuzLW9q"
      },
      "source": [
        "## Get predictions for random examples"
      ]
    },
    {
      "cell_type": "code",
      "metadata": {
        "id": "v9hkpnCcLYQ3"
      },
      "source": [
        "# reviews on which we need to predict\n",
        "sentence = [\"The movie was very touching and heart whelming\", \n",
        "            \"I have never seen a terrible movie like this\", \n",
        "            \"the movie plot is terrible but it had good acting\"]"
      ],
      "execution_count": 192,
      "outputs": []
    },
    {
      "cell_type": "code",
      "metadata": {
        "id": "q4Ks6HqHLdeP",
        "outputId": "8b7461ec-558d-4c4a-e19e-7be51213de0d",
        "colab": {
          "base_uri": "https://localhost:8080/",
          "height": 68
        }
      },
      "source": [
        "sequences = tokenizer.texts_to_sequences(sentence)\n",
        "padded = pad_sequences(sequences, padding=padding_type, maxlen=max_length, truncating=trunc_type)\n",
        "print(model.predict(padded))"
      ],
      "execution_count": 193,
      "outputs": [
        {
          "output_type": "stream",
          "text": [
            "[[0.64529353]\n",
            " [0.20575187]\n",
            " [0.124392  ]]\n"
          ],
          "name": "stdout"
        }
      ]
    },
    {
      "cell_type": "code",
      "metadata": {
        "id": "nSqAUbQvLlpy",
        "outputId": "173dd91d-0538-494d-8ea3-0ed40e2399bd",
        "colab": {
          "base_uri": "https://localhost:8080/",
          "height": 68
        }
      },
      "source": [
        "review_prediction = model.predict(padded)\n",
        "for i,val in enumerate(review_prediction):\n",
        "  i=i+1\n",
        "  if val>0.5:\n",
        "    print('Review',i,'is positive')\n",
        "  else:\n",
        "    print('Review',i,'is negative')"
      ],
      "execution_count": 194,
      "outputs": [
        {
          "output_type": "stream",
          "text": [
            "Review 1 is positive\n",
            "Review 2 is negative\n",
            "Review 3 is negative\n"
          ],
          "name": "stdout"
        }
      ]
    }
  ]
}